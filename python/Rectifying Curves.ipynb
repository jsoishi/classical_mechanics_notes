{
 "cells": [
  {
   "cell_type": "code",
   "execution_count": 1,
   "metadata": {},
   "outputs": [],
   "source": [
    "import sympy as S"
   ]
  },
  {
   "cell_type": "code",
   "execution_count": 2,
   "metadata": {},
   "outputs": [],
   "source": [
    "x, x0, x1, y0, y1, l, L = S.var('x, x0, x1, y0, y1, l, L', real=True)"
   ]
  },
  {
   "cell_type": "code",
   "execution_count": 34,
   "metadata": {},
   "outputs": [
    {
     "name": "stdout",
     "output_type": "stream",
     "text": [
      "34.9963516141148706992\n"
     ]
    }
   ],
   "source": [
    "print((l**2).evalf(n=21))"
   ]
  },
  {
   "cell_type": "code",
   "execution_count": 25,
   "metadata": {},
   "outputs": [],
   "source": [
    "l = S.integrate(S.sqrt((x/2)**2 + 1), (x,0, 4))"
   ]
  },
  {
   "cell_type": "code",
   "execution_count": 26,
   "metadata": {},
   "outputs": [],
   "source": [
    "y1 = x1**2/4\n",
    "y0 = x0**2/4"
   ]
  },
  {
   "cell_type": "code",
   "execution_count": 27,
   "metadata": {},
   "outputs": [],
   "source": [
    "b = (x1-x0)**2 + (y1-x0**2/4)**2 - L**2"
   ]
  },
  {
   "cell_type": "code",
   "execution_count": 28,
   "metadata": {},
   "outputs": [
    {
     "name": "stdout",
     "output_type": "stream",
     "text": [
      "-L**2 + (-x0 + x1)**2 + (-x0**2/4 + x1**2/4)**2\n"
     ]
    }
   ],
   "source": [
    "print(b)"
   ]
  },
  {
   "cell_type": "code",
   "execution_count": 29,
   "metadata": {},
   "outputs": [],
   "source": [
    "n = 2"
   ]
  },
  {
   "cell_type": "code",
   "execution_count": 30,
   "metadata": {},
   "outputs": [
    {
     "name": "stdout",
     "output_type": "stream",
     "text": [
      "\\draw (0.000000, 0.000000) -- (2.50646084584207270954, 1.57058649293483964397);\n",
      "\\draw (2.50646084584207270954, 1.57058649293483964397) -- (4.04740786657613327293, 4.09537760960559165944);\n"
     ]
    }
   ],
   "source": [
    "xx = [0,]\n",
    "yy = [0,]\n",
    "for i in range(n):\n",
    "    soln = S.solve(b.subs({x0: xx[-1], L: l/n}),x1)\n",
    "    xx.append(soln[1].evalf(n=21))\n",
    "    yy.append(xx[-1]**2/4.)\n",
    "    print(\"\\draw ({:f}, {:f}) -- ({:f}, {:f});\".format(xx[-2], yy[-2], xx[-1], yy[-1]))"
   ]
  },
  {
   "cell_type": "code",
   "execution_count": null,
   "metadata": {},
   "outputs": [],
   "source": []
  }
 ],
 "metadata": {
  "kernelspec": {
   "display_name": "Python 3",
   "language": "python",
   "name": "python3"
  },
  "language_info": {
   "codemirror_mode": {
    "name": "ipython",
    "version": 3
   },
   "file_extension": ".py",
   "mimetype": "text/x-python",
   "name": "python",
   "nbconvert_exporter": "python",
   "pygments_lexer": "ipython3",
   "version": "3.6.3"
  }
 },
 "nbformat": 4,
 "nbformat_minor": 2
}
